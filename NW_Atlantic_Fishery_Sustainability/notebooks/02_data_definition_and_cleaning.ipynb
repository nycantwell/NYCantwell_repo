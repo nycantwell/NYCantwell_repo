{
 "cells": [
  {
   "cell_type": "markdown",
   "metadata": {},
   "source": [
    "### Load packages and data files from previous notebook"
   ]
  },
  {
   "cell_type": "code",
   "execution_count": 1,
   "metadata": {},
   "outputs": [],
   "source": [
    "## Imports\n",
    "from scipy import io\n",
    "import pandas as pd\n",
    "import numpy as np\n",
    "import os\n",
    "import pandas_profiling"
   ]
  },
  {
   "cell_type": "code",
   "execution_count": 2,
   "metadata": {},
   "outputs": [],
   "source": [
    "## Load Matlab files\n",
    "file_path = r'C:\\Users\\natha\\Desktop\\bootcamp_repo-1\\NW_Atlantic_Fishery_Sustainability\\data\\interim'\n",
    "AMO_file, biomass_file, ecosystem_file, landings_file, ocean_temp_file = [fr'{file_path}\\AMO_data.csv', \\\n",
    "    fr'{file_path}\\biomass_data.csv', fr'{file_path}\\ecosystem_data.csv', fr'{file_path}\\landings_data.csv', \\\n",
    "    fr'{file_path}\\ocean_temp_data.csv']\n",
    "\n",
    "AMO_df = pd.read_csv(AMO_file).drop(['Unnamed: 0'], axis=1)\n",
    "biomass_df = pd.read_csv(biomass_file).drop(['Unnamed: 0'], axis=1)\n",
    "ecosystem_df = pd.read_csv(ecosystem_file).drop(['Unnamed: 0'], axis=1)\n",
    "landings_df = pd.read_csv(landings_file).drop(['Unnamed: 0'], axis=1)\n",
    "ocean_temp_df = pd.read_csv(ocean_temp_file).drop(['Unnamed: 0'], axis=1)"
   ]
  },
  {
   "cell_type": "markdown",
   "metadata": {},
   "source": [
    "### Generate df reports and save to files"
   ]
  },
  {
   "cell_type": "code",
   "execution_count": 19,
   "metadata": {},
   "outputs": [
    {
     "name": "stderr",
     "output_type": "stream",
     "text": [
      "Summarize dataset: 100%|██████████| 195/195 [00:54<00:00,  3.58it/s, Completed]                   \n",
      "Generate report structure: 100%|██████████| 1/1 [00:08<00:00,  8.45s/it]\n",
      "Render HTML: 100%|██████████| 1/1 [00:03<00:00,  3.92s/it]\n",
      "Export report to file: 100%|██████████| 1/1 [00:00<00:00, 29.41it/s]\n"
     ]
    },
    {
     "name": "stdout",
     "output_type": "stream",
     "text": [
      "AMO done!\n"
     ]
    },
    {
     "name": "stderr",
     "output_type": "stream",
     "text": [
      "Summarize dataset: 100%|██████████| 153/153 [00:35<00:00,  4.30it/s, Completed]                                     \n",
      "Generate report structure: 100%|██████████| 1/1 [00:10<00:00, 10.29s/it]\n",
      "Render HTML: 100%|██████████| 1/1 [00:05<00:00,  5.64s/it]\n",
      "Export report to file: 100%|██████████| 1/1 [00:00<00:00, 27.02it/s]\n"
     ]
    },
    {
     "name": "stdout",
     "output_type": "stream",
     "text": [
      "biomass done!\n"
     ]
    },
    {
     "name": "stderr",
     "output_type": "stream",
     "text": [
      "Summarize dataset: 100%|██████████| 18/18 [00:00<00:00, 19.71it/s, Completed]                    \n",
      "Generate report structure: 100%|██████████| 1/1 [00:01<00:00,  1.79s/it]\n",
      "Render HTML: 100%|██████████| 1/1 [00:00<00:00,  3.64it/s]\n",
      "Export report to file: 100%|██████████| 1/1 [00:00<00:00, 200.02it/s]\n"
     ]
    },
    {
     "name": "stdout",
     "output_type": "stream",
     "text": [
      "ecosystem done!\n"
     ]
    },
    {
     "name": "stderr",
     "output_type": "stream",
     "text": [
      "Summarize dataset: 100%|██████████| 36/36 [00:03<00:00,  9.53it/s, Completed]                                             \n",
      "Generate report structure: 100%|██████████| 1/1 [00:04<00:00,  4.09s/it]\n",
      "Render HTML: 100%|██████████| 1/1 [00:00<00:00,  1.16it/s]\n",
      "Export report to file: 100%|██████████| 1/1 [00:00<00:00, 124.99it/s]\n"
     ]
    },
    {
     "name": "stdout",
     "output_type": "stream",
     "text": [
      "landings done!\n"
     ]
    },
    {
     "name": "stderr",
     "output_type": "stream",
     "text": [
      "Summarize dataset: 100%|██████████| 55/55 [00:08<00:00,  6.50it/s, Completed]                                                                         \n",
      "Generate report structure: 100%|██████████| 1/1 [00:04<00:00,  4.74s/it]\n",
      "Render HTML: 100%|██████████| 1/1 [00:01<00:00,  1.22s/it]\n",
      "Export report to file: 100%|██████████| 1/1 [00:00<00:00, 76.91it/s]"
     ]
    },
    {
     "name": "stdout",
     "output_type": "stream",
     "text": [
      "ocean_temp done!\n"
     ]
    },
    {
     "name": "stderr",
     "output_type": "stream",
     "text": [
      "\n"
     ]
    }
   ],
   "source": [
    "def make_html_report (df, name):\n",
    "    report = df.profile_report(sort=None, html={'style':{'full_width': True}}, progress_bar=True)\n",
    "    report.to_file(fr\"C:\\Users\\natha\\Desktop\\bootcamp_repo-1\\NW_Atlantic_Fishery_Sustainability\\reports\\{name}_data_report.html\")\n",
    "    print(f'{name} done!')\n",
    "\n",
    "make_html_report(AMO_df, 'AMO')\n",
    "make_html_report(biomass_df, 'biomass')\n",
    "make_html_report(ecosystem_df, 'ecosystem')\n",
    "make_html_report(landings_df, 'landings')\n",
    "make_html_report(ocean_temp_df, 'ocean_temp')"
   ]
  },
  {
   "cell_type": "markdown",
   "metadata": {},
   "source": [
    "## Data defining:\n",
    "\n",
    "### In Biomass:\n",
    "#### biomass in tons per square kilometer (t/km^2).\n",
    "#### biomass_index in tons.\n",
    "#### abundance in number per square kilometer.\n",
    "#### abundance_index in number.\n",
    "\n",
    "### In Landings:\n",
    "#### landings_biomass in tons per square kilometer (t/km^2).\n",
    "#### landings_biomass_index in tons.\n",
    "#### landings_abundance in number per square kilometer.\n",
    "#### landings_abundance_index in number.\n",
    "\n",
    "## Decisions made for data cleaning:\n",
    "\n",
    "#### Change nothing in ecosystem or ocean temp data. Annualize AMO data instead of month-by-month to AMO_ann_data.csv. All ecosystems in landings_data area also found in biomass_data."
   ]
  },
  {
   "cell_type": "code",
   "execution_count": 40,
   "metadata": {},
   "outputs": [
    {
     "name": "stdout",
     "output_type": "stream",
     "text": [
      "Scup                  450\n",
      "Winter_flounder       447\n",
      "Summer_flounder       438\n",
      "Red_hake              425\n",
      "Silver_hake           418\n",
      "                     ... \n",
      "Houndfish               1\n",
      "Green_sunfish           1\n",
      "LADY_FISH               1\n",
      "LEATHERBACK_TURTLE      1\n",
      "northern_sennet         1\n",
      "Name: species, Length: 600, dtype: int64\n",
      "ecosystem                  object\n",
      "species                    object\n",
      "year                        int64\n",
      "landings_biomass          float64\n",
      "landings_abund            float64\n",
      "landings_biomass_index    float64\n",
      "landings_abund_index      float64\n",
      "avg_len                   float64\n",
      "avg_mass                  float64\n",
      "source                     object\n",
      "agency                     object\n",
      "season                     object\n",
      "dtype: object\n"
     ]
    }
   ],
   "source": [
    "#print(ecosystem_df.head())\n",
    "#print(AMO_df.head())\n",
    "#print(ocean_temp_df.head())\n",
    "print(biomass_df['species'].value_counts())\n",
    "print(landings_df.dtypes)\n",
    "#print(biomass_df.loc[(biomass_df['species']=='Sheepshead') & (biomass_df['abundance']>=1)])"
   ]
  }
 ],
 "metadata": {
  "interpreter": {
   "hash": "07d3f96871aa038c641a94b611343adecd2331386feecc9546385b30192b2d34"
  },
  "kernelspec": {
   "display_name": "Python 3.10.2 64-bit",
   "language": "python",
   "name": "python3"
  },
  "language_info": {
   "codemirror_mode": {
    "name": "ipython",
    "version": 3
   },
   "file_extension": ".py",
   "mimetype": "text/x-python",
   "name": "python",
   "nbconvert_exporter": "python",
   "pygments_lexer": "ipython3",
   "version": "3.10.2"
  },
  "orig_nbformat": 4
 },
 "nbformat": 4,
 "nbformat_minor": 2
}
