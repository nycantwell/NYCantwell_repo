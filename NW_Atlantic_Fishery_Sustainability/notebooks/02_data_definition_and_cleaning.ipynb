{
 "cells": [
  {
   "cell_type": "markdown",
   "metadata": {},
   "source": [
    "### Load packages and data files from previous notebook"
   ]
  },
  {
   "cell_type": "code",
   "execution_count": 179,
   "metadata": {},
   "outputs": [],
   "source": [
    "## Imports\n",
    "from scipy import io\n",
    "import pandas as pd\n",
    "import numpy as np\n",
    "import os\n",
    "import pandas_profiling\n",
    "import matplotlib.pyplot as plt\n",
    "import seaborn as sns"
   ]
  },
  {
   "cell_type": "code",
   "execution_count": 180,
   "metadata": {},
   "outputs": [],
   "source": [
    "## Load Matlab files\n",
    "file_path = r'C:\\Users\\natha\\Desktop\\bootcamp_repo-1\\NW_Atlantic_Fishery_Sustainability\\data\\interim'\n",
    "AMO_file, biomass_file, ecosystem_file, landings_file, ocean_temp_file = [fr'{file_path}\\AMO_data.csv', \\\n",
    "    fr'{file_path}\\biomass_data.csv', fr'{file_path}\\ecosystem_data.csv', fr'{file_path}\\landings_data.csv', \\\n",
    "    fr'{file_path}\\ocean_temp_data.csv']\n",
    "\n",
    "AMO_df = pd.read_csv(AMO_file).drop(['Unnamed: 0'], axis=1)\n",
    "biomass_df = pd.read_csv(biomass_file).drop(['Unnamed: 0'], axis=1)\n",
    "ecosystem_df = pd.read_csv(ecosystem_file).drop(['Unnamed: 0'], axis=1)\n",
    "landings_df = pd.read_csv(landings_file).drop(['Unnamed: 0'], axis=1)\n",
    "ocean_temp_df = pd.read_csv(ocean_temp_file).drop(['Unnamed: 0'], axis=1)"
   ]
  },
  {
   "cell_type": "markdown",
   "metadata": {},
   "source": [
    "### Generate df reports and save to files"
   ]
  },
  {
   "cell_type": "code",
   "execution_count": 181,
   "metadata": {},
   "outputs": [
    {
     "data": {
      "text/plain": [
       "\"\\nmake_html_report(AMO_df, 'AMO')\\nmake_html_report(biomass_df, 'biomass')\\nmake_html_report(ecosystem_df, 'ecosystem')\\nmake_html_report(landings_df, 'landings')\\nmake_html_report(ocean_temp_df, 'ocean_temp')\\n\""
      ]
     },
     "execution_count": 181,
     "metadata": {},
     "output_type": "execute_result"
    }
   ],
   "source": [
    "def make_html_report (df, name):\n",
    "    report = df.profile_report(sort=None, html={'style':{'full_width': True}}, progress_bar=True)\n",
    "    report.to_file(fr\"C:\\Users\\natha\\Desktop\\bootcamp_repo-1\\NW_Atlantic_Fishery_Sustainability\\reports\\{name}_data_report.html\")\n",
    "    print(f'{name} done!')\n",
    "'''\n",
    "make_html_report(AMO_df, 'AMO')\n",
    "make_html_report(biomass_df, 'biomass')\n",
    "make_html_report(ecosystem_df, 'ecosystem')\n",
    "make_html_report(landings_df, 'landings')\n",
    "make_html_report(ocean_temp_df, 'ocean_temp')\n",
    "'''"
   ]
  },
  {
   "cell_type": "markdown",
   "metadata": {},
   "source": [
    "## Data defining:\n",
    "\n",
    "### In Biomass:\n",
    "biomass in tons per square kilometer (t/km^2).\n",
    "biomass_index in tons.\n",
    "abundance in number per square kilometer.\n",
    "abundance_index in number.\n",
    "\n",
    "### In Landings:\n",
    "landings_biomass in tons per square kilometer (t/km^2).\n",
    "landings_biomass_index in tons.\n",
    "landings_abundance in number per square kilometer.\n",
    "landings_abundance_index in number."
   ]
  },
  {
   "cell_type": "code",
   "execution_count": 182,
   "metadata": {},
   "outputs": [
    {
     "name": "stdout",
     "output_type": "stream",
     "text": [
      "['AFRICAN_POMPANO', 'ALEWIFE', 'AMERICAN_EEL', 'AMERICAN_LOBSTER', 'AMERICAN_SAND_LANCE', 'AMERICAN_SHAD', 'ATLANTIC_ANGEL_SHARK', 'ATLANTIC_ARGENTINE', 'ATLANTIC_BONITO']\n",
      "['American_plaice', 'Atlantic_butterfish', 'Atlantic_cod', 'Atlantic_croaker', 'Atlantic_halibut', 'Atlantic_herring', 'Atlantic_mackerel', 'Atlantic_redfishes_NS', 'Atlantic_wolffish']\n"
     ]
    }
   ],
   "source": [
    "biomass_spec =  list(set(biomass_df['species'].values))\n",
    "biomass_loc = list(set(biomass_df['ecosystem'].values))\n",
    "landings_spec = list(set(landings_df['species'].values))\n",
    "landings_loc = list(set(landings_df['ecosystem'].values))\n",
    "biomass_spec.sort()\n",
    "biomass_loc.sort()\n",
    "landings_spec.sort()\n",
    "landings_loc.sort()\n",
    "\n",
    "print(biomass_spec[0:9])\n",
    "print(landings_spec[0:9])"
   ]
  },
  {
   "cell_type": "code",
   "execution_count": 183,
   "metadata": {},
   "outputs": [
    {
     "name": "stdout",
     "output_type": "stream",
     "text": [
      "Index(['ecosystem', 'species', 'year', 'biomass', 'biomass_SE', 'abundance',\n",
      "       'abundance_SE', 'biomass_index', 'biomass_index_SE', 'abundance_index',\n",
      "       'abundance_index_units', 'abundance_index_SE', 'avg_len', 'avg_mass',\n",
      "       'source', 'agency', 'season'],\n",
      "      dtype='object')\n",
      "Index(['ecosystem', 'species', 'year', 'landings_biomass', 'landings_abund',\n",
      "       'landings_biomass_index', 'landings_abund_index', 'avg_len', 'avg_mass',\n",
      "       'source', 'agency', 'season'],\n",
      "      dtype='object')\n",
      "Index(['ecosystem', 'species', 'year', 'biomass', 'abundance', 'biomass_index',\n",
      "       'abundance_index', 'avg_len', 'avg_mass', 'source', 'agency', 'season'],\n",
      "      dtype='object')\n",
      "Index(['ecosystem', 'species', 'year', 'biomass', 'abundance', 'biomass_index',\n",
      "       'abundance_index', 'avg_len', 'avg_mass', 'source', 'agency', 'season'],\n",
      "      dtype='object')\n"
     ]
    }
   ],
   "source": [
    "print(biomass_df.columns)\n",
    "print(landings_df.columns)\n",
    "\n",
    "biomass_df.drop(['biomass_SE', 'abundance_SE', 'biomass_index_SE', 'abundance_index_units', 'abundance_index_SE'], \n",
    "    axis=1, inplace=True)\n",
    "landings_df.rename(columns={'landings_biomass':'biomass', 'landings_abund':'abundance', \n",
    "    'landings_biomass_index':'biomass_index', 'landings_abund_index':'abundance_index'}, inplace=True)\n",
    "print(biomass_df.columns)\n",
    "print(landings_df.columns)"
   ]
  },
  {
   "cell_type": "code",
   "execution_count": 184,
   "metadata": {},
   "outputs": [
    {
     "name": "stdout",
     "output_type": "stream",
     "text": [
      "      ecosystem    species  year  biomass  abundance  biomass_index  \\\n",
      "31017        CB  Skates_NS  2003      NaN        NaN           62.6   \n",
      "31018        CB  Skates_NS  2005      NaN        NaN           38.7   \n",
      "31019        CB  Skates_NS  2006      NaN        NaN           20.4   \n",
      "31020        CB  Skates_NS  2007      NaN        NaN           68.4   \n",
      "31021        CB  Skates_NS  2008      NaN        NaN          265.7   \n",
      "\n",
      "       abundance_index  avg_len  avg_mass source agency season  \n",
      "31017              NaN      NaN       NaN     nd     nd     nd  \n",
      "31018              NaN      NaN       NaN     nd     nd     nd  \n",
      "31019              NaN      NaN       NaN     nd     nd     nd  \n",
      "31020              NaN      NaN       NaN     nd     nd     nd  \n",
      "31021              NaN      NaN       NaN     nd     nd     nd  \n",
      "(31022, 12)\n",
      "(26137, 12)\n",
      "(4885, 12)\n"
     ]
    }
   ],
   "source": [
    "fish_df = pd.concat([biomass_df, landings_df], ignore_index=True)\n",
    "print(fish_df.tail())\n",
    "print(fish_df.shape)\n",
    "print(biomass_df.shape)\n",
    "print(landings_df.shape)"
   ]
  },
  {
   "cell_type": "markdown",
   "metadata": {},
   "source": [
    "Later modeling is decided to work with recent data only (last 30 years)."
   ]
  },
  {
   "cell_type": "code",
   "execution_count": 185,
   "metadata": {},
   "outputs": [
    {
     "name": "stdout",
     "output_type": "stream",
     "text": [
      "(25776, 12)\n"
     ]
    }
   ],
   "source": [
    "max_yr = max(fish_df['year'])\n",
    "min_yr = max_yr - 30\n",
    "\n",
    "fish_df_30yr = fish_df[fish_df['year']>= min_yr]\n",
    "print(fish_df_30yr.shape)"
   ]
  },
  {
   "cell_type": "markdown",
   "metadata": {},
   "source": [
    "Consolidate species list that includes distinct duplicate due to formatting differences (all caps, etc.)"
   ]
  },
  {
   "cell_type": "code",
   "execution_count": 186,
   "metadata": {},
   "outputs": [
    {
     "name": "stdout",
     "output_type": "stream",
     "text": [
      "['african_pompano', 'alewife', 'alewife_and_blueback_herring', 'alewife_and_river_herring', 'american_butterfish', 'american_eel', 'american_eel_age-1+', 'american_eel_yoy/larvae', 'american_fourspot_flounder']\n"
     ]
    },
    {
     "name": "stderr",
     "output_type": "stream",
     "text": [
      "C:\\Users\\natha\\AppData\\Local\\Temp\\ipykernel_10216\\4111078461.py:1: SettingWithCopyWarning: \n",
      "A value is trying to be set on a copy of a slice from a DataFrame.\n",
      "Try using .loc[row_indexer,col_indexer] = value instead\n",
      "\n",
      "See the caveats in the documentation: https://pandas.pydata.org/pandas-docs/stable/user_guide/indexing.html#returning-a-view-versus-a-copy\n",
      "  fish_df_30yr['species_lower'] = fish_df_30yr['species'].str.lower()\n"
     ]
    },
    {
     "data": {
      "text/plain": [
       "406"
      ]
     },
     "execution_count": 186,
     "metadata": {},
     "output_type": "execute_result"
    }
   ],
   "source": [
    "fish_df_30yr['species_lower'] = fish_df_30yr['species'].str.lower()\n",
    "fish_df_30yr_spec =  list(set(fish_df_30yr['species_lower'].values))\n",
    "fish_df_30yr_spec.sort()\n",
    "print(fish_df_30yr_spec[0:9])\n",
    "len(fish_df_30yr_spec)"
   ]
  },
  {
   "cell_type": "code",
   "execution_count": 187,
   "metadata": {},
   "outputs": [
    {
     "name": "stdout",
     "output_type": "stream",
     "text": [
      "['american_eel_yoy/larvae', 'american_sand_lance_yoy', 'anchovy_spp_yoy-est', 'atlantic_herring_yoy-est', 'bay_anchovy_yoy', 'black_sea_bass_yoy', 'blue_catfish_yoy', 'blue_crab_yoy', 'channel_catfish_yoy', 'conger_eel_yoy/larvae', 'gadus_spp._yoy/larvae', 'silver_perch_yoy', 'spot_yoy', 'striped_bass_yoy', 'summer_flounder_yoy', 'weakfish_yoy', 'white_catfish_yoy', 'white_perch_yoy', 'y-o-y_winter_flounder'] 19\n"
     ]
    }
   ],
   "source": [
    "species_repl = [species.replace('-','') for species in fish_df_30yr_spec]\n",
    "species_young = [species for species in fish_df_30yr_spec if ('yoy' in species) or ('y-o-y' in species)]\n",
    "print(species_young, len(species_young))\n"
   ]
  },
  {
   "cell_type": "markdown",
   "metadata": {},
   "source": [
    "Verify \"yoy\" (young of year) species have adult species data."
   ]
  },
  {
   "cell_type": "code",
   "execution_count": 188,
   "metadata": {},
   "outputs": [
    {
     "name": "stdout",
     "output_type": "stream",
     "text": [
      "['american_eel', 'american_sand_lance', 'anchovy_spp', 'atlantic_herring', 'bay_anchovy', 'black_sea_bass', 'blue_catfish', 'blue_crab', 'channel_catfish', 'conger_eel', 'gadus_spp.', 'silver_perch', 'spot', 'striped_bass', 'summer_flounder', 'weakfish', 'white_catfish', 'white_perch', 'winter_flounder']\n"
     ]
    },
    {
     "data": {
      "text/plain": [
       "19"
      ]
     },
     "execution_count": 188,
     "metadata": {},
     "output_type": "execute_result"
    }
   ],
   "source": [
    "species_repl = [species.replace('-est','') for species in species_young]\n",
    "species_repl = [species.replace('_yoyest','') for species in species_repl]\n",
    "species_repl = [species.replace('_yoy','') for species in species_repl]\n",
    "species_repl = [species.replace('y-o-y_','') for species in species_repl]\n",
    "species_adult = [species.replace('/larvae','') for species in species_repl]\n",
    "print(species_adult)\n",
    "len(species_adult)"
   ]
  },
  {
   "cell_type": "code",
   "execution_count": 190,
   "metadata": {},
   "outputs": [
    {
     "name": "stdout",
     "output_type": "stream",
     "text": [
      "(3476, 13)\n",
      "(332, 13)\n"
     ]
    }
   ],
   "source": [
    "fish_adult = fish_df_30yr[fish_df_30yr['species_lower'].isin(species_adult)]\n",
    "fish_young = fish_df_30yr[fish_df_30yr['species_lower'].isin(species_young)]\n",
    "print(fish_adult.shape)\n",
    "print(fish_young.shape)"
   ]
  },
  {
   "cell_type": "code",
   "execution_count": 194,
   "metadata": {},
   "outputs": [
    {
     "name": "stdout",
     "output_type": "stream",
     "text": [
      "['striped_bass', 'channel_catfish', 'weakfish', 'american_sand_lance', 'black_sea_bass', 'american_eel', 'bay_anchovy', 'white_perch', 'blue_crab', 'spot', 'silver_perch', 'white_catfish', 'summer_flounder', 'winter_flounder', 'conger_eel', 'atlantic_herring']\n",
      "16\n",
      "['anchovy_spp_yoy-est', 'american_sand_lance_yoy', 'bay_anchovy_yoy', 'silver_perch_yoy', 'y-o-y_winter_flounder', 'striped_bass_yoy', 'white_perch_yoy', 'american_eel_yoy/larvae', 'blue_crab_yoy', 'channel_catfish_yoy', 'conger_eel_yoy/larvae', 'white_catfish_yoy', 'summer_flounder_yoy', 'black_sea_bass_yoy', 'atlantic_herring_yoy-est', 'weakfish_yoy', 'spot_yoy', 'gadus_spp._yoy/larvae', 'blue_catfish_yoy']\n",
      "19\n"
     ]
    }
   ],
   "source": [
    "print(list(set(fish_adult['species_lower'].values)))\n",
    "print(len(list(set(fish_adult['species_lower'].values))))\n",
    "print(list(set(fish_young['species_lower'].values)))\n",
    "print(len(list(set(fish_young['species_lower'].values))))"
   ]
  },
  {
   "cell_type": "code",
   "execution_count": 15,
   "metadata": {},
   "outputs": [],
   "source": [
    "csv_folder = r\"C:\\Users\\natha\\Desktop\\bootcamp_repo-1\\NW_Atlantic_Fishery_Sustainability\\data\\interim\"\n",
    "fish_adult.to_csv(fr'{csv_folder}\\fish_adult.csv')\n",
    "fish_young.to_csv(fr'{csv_folder}\\fish_young.csv')"
   ]
  }
 ],
 "metadata": {
  "interpreter": {
   "hash": "9f0d103aebe82dfbb47ec724a2ca4fd3dcb0c9038207abb072b7913218171667"
  },
  "kernelspec": {
   "display_name": "Python 3.10.2 64-bit",
   "language": "python",
   "name": "python3"
  },
  "language_info": {
   "codemirror_mode": {
    "name": "ipython",
    "version": 3
   },
   "file_extension": ".py",
   "mimetype": "text/x-python",
   "name": "python",
   "nbconvert_exporter": "python",
   "pygments_lexer": "ipython3",
   "version": "3.10.2"
  },
  "orig_nbformat": 4
 },
 "nbformat": 4,
 "nbformat_minor": 2
}
