{
 "cells": [
  {
   "cell_type": "code",
   "execution_count": 964,
   "metadata": {},
   "outputs": [],
   "source": [
    "## Imports\n",
    "import pandas as pd\n",
    "import numpy as np\n",
    "import seaborn as sns"
   ]
  },
  {
   "cell_type": "code",
   "execution_count": 965,
   "metadata": {},
   "outputs": [
    {
     "data": {
      "text/plain": [
       "(Index(['HALTER_ID', 'ALTER', 'GESCHLECHT', 'STADTKREIS', 'STADTQUARTIER',\n",
       "        'RASSE1', 'RASSE1_MISCHLING', 'RASSE2', 'RASSE2_MISCHLING', 'RASSENTYP',\n",
       "        'GEBURTSJAHR_HUND', 'GESCHLECHT_HUND', 'HUNDEFARBE'],\n",
       "       dtype='object'),\n",
       " (6980, 13))"
      ]
     },
     "execution_count": 965,
     "metadata": {},
     "output_type": "execute_result"
    }
   ],
   "source": [
    "# Read the 2015 csv and translate the column names from German to English via google translate and Kaggle notes.\n",
    "# https://www.kaggle.com/datasets/kmader/dogs-of-zurich?resource=download&select=zuordnungstabellehunderassehundetyp.csv\n",
    "df_2015 = pd.read_csv('20151001hundehalter.csv')\n",
    "df_2015.columns, df_2015.shape"
   ]
  },
  {
   "cell_type": "code",
   "execution_count": 966,
   "metadata": {},
   "outputs": [
    {
     "data": {
      "text/html": [
       "<div>\n",
       "<style scoped>\n",
       "    .dataframe tbody tr th:only-of-type {\n",
       "        vertical-align: middle;\n",
       "    }\n",
       "\n",
       "    .dataframe tbody tr th {\n",
       "        vertical-align: top;\n",
       "    }\n",
       "\n",
       "    .dataframe thead th {\n",
       "        text-align: right;\n",
       "    }\n",
       "</style>\n",
       "<table border=\"1\" class=\"dataframe\">\n",
       "  <thead>\n",
       "    <tr style=\"text-align: right;\">\n",
       "      <th></th>\n",
       "      <th>HOLDER_ID</th>\n",
       "      <th>AGE</th>\n",
       "      <th>GENDER</th>\n",
       "      <th>URBAN_CIRCLE</th>\n",
       "      <th>CITY_QUARTER</th>\n",
       "      <th>BREED1</th>\n",
       "      <th>BREED1_HYBRID</th>\n",
       "      <th>BREED2</th>\n",
       "      <th>BREED2_HYBRID</th>\n",
       "      <th>BREED_TYPE</th>\n",
       "      <th>BIRTH_YEAR_DOG</th>\n",
       "      <th>GENDER_DOG</th>\n",
       "      <th>COLOR_DOG</th>\n",
       "    </tr>\n",
       "  </thead>\n",
       "  <tbody>\n",
       "    <tr>\n",
       "      <th>0</th>\n",
       "      <td>126</td>\n",
       "      <td>51-60</td>\n",
       "      <td>m</td>\n",
       "      <td>9.0</td>\n",
       "      <td>92.0</td>\n",
       "      <td>Welsh Terrier</td>\n",
       "      <td>NaN</td>\n",
       "      <td>NaN</td>\n",
       "      <td>NaN</td>\n",
       "      <td>K</td>\n",
       "      <td>2011</td>\n",
       "      <td>w</td>\n",
       "      <td>schwarz/braun</td>\n",
       "    </tr>\n",
       "    <tr>\n",
       "      <th>1</th>\n",
       "      <td>574</td>\n",
       "      <td>61-70</td>\n",
       "      <td>w</td>\n",
       "      <td>2.0</td>\n",
       "      <td>23.0</td>\n",
       "      <td>Cairn Terrier</td>\n",
       "      <td>NaN</td>\n",
       "      <td>NaN</td>\n",
       "      <td>NaN</td>\n",
       "      <td>K</td>\n",
       "      <td>2002</td>\n",
       "      <td>w</td>\n",
       "      <td>brindle</td>\n",
       "    </tr>\n",
       "    <tr>\n",
       "      <th>2</th>\n",
       "      <td>695</td>\n",
       "      <td>41-50</td>\n",
       "      <td>m</td>\n",
       "      <td>6.0</td>\n",
       "      <td>63.0</td>\n",
       "      <td>Labrador Retriever</td>\n",
       "      <td>NaN</td>\n",
       "      <td>NaN</td>\n",
       "      <td>NaN</td>\n",
       "      <td>I</td>\n",
       "      <td>2012</td>\n",
       "      <td>w</td>\n",
       "      <td>braun</td>\n",
       "    </tr>\n",
       "    <tr>\n",
       "      <th>3</th>\n",
       "      <td>893</td>\n",
       "      <td>61-70</td>\n",
       "      <td>w</td>\n",
       "      <td>7.0</td>\n",
       "      <td>71.0</td>\n",
       "      <td>Mittelschnauzer</td>\n",
       "      <td>NaN</td>\n",
       "      <td>NaN</td>\n",
       "      <td>NaN</td>\n",
       "      <td>I</td>\n",
       "      <td>2010</td>\n",
       "      <td>w</td>\n",
       "      <td>schwarz</td>\n",
       "    </tr>\n",
       "    <tr>\n",
       "      <th>4</th>\n",
       "      <td>1177</td>\n",
       "      <td>51-60</td>\n",
       "      <td>m</td>\n",
       "      <td>10.0</td>\n",
       "      <td>102.0</td>\n",
       "      <td>Shih Tzu</td>\n",
       "      <td>NaN</td>\n",
       "      <td>NaN</td>\n",
       "      <td>NaN</td>\n",
       "      <td>K</td>\n",
       "      <td>2011</td>\n",
       "      <td>m</td>\n",
       "      <td>schwarz/weiss</td>\n",
       "    </tr>\n",
       "  </tbody>\n",
       "</table>\n",
       "</div>"
      ],
      "text/plain": [
       "   HOLDER_ID    AGE GENDER  URBAN_CIRCLE  CITY_QUARTER              BREED1  \\\n",
       "0        126  51-60      m           9.0          92.0       Welsh Terrier   \n",
       "1        574  61-70      w           2.0          23.0       Cairn Terrier   \n",
       "2        695  41-50      m           6.0          63.0  Labrador Retriever   \n",
       "3        893  61-70      w           7.0          71.0     Mittelschnauzer   \n",
       "4       1177  51-60      m          10.0         102.0            Shih Tzu   \n",
       "\n",
       "  BREED1_HYBRID BREED2  BREED2_HYBRID BREED_TYPE  BIRTH_YEAR_DOG GENDER_DOG  \\\n",
       "0           NaN    NaN            NaN          K            2011          w   \n",
       "1           NaN    NaN            NaN          K            2002          w   \n",
       "2           NaN    NaN            NaN          I            2012          w   \n",
       "3           NaN    NaN            NaN          I            2010          w   \n",
       "4           NaN    NaN            NaN          K            2011          m   \n",
       "\n",
       "       COLOR_DOG  \n",
       "0  schwarz/braun  \n",
       "1        brindle  \n",
       "2          braun  \n",
       "3        schwarz  \n",
       "4  schwarz/weiss  "
      ]
     },
     "execution_count": 966,
     "metadata": {},
     "output_type": "execute_result"
    }
   ],
   "source": [
    "# German to English translations for column names\n",
    "df_2015.columns = ['HOLDER_ID', 'AGE', 'GENDER', 'URBAN_CIRCLE', 'CITY_QUARTER',\n",
    "    'BREED1', 'BREED1_HYBRID', 'BREED2', 'BREED2_HYBRID', 'BREED_TYPE',\n",
    "    'BIRTH_YEAR_DOG', 'GENDER_DOG', 'COLOR_DOG']\n",
    "\n",
    "# View updated column names\n",
    "df_2015.head()"
   ]
  },
  {
   "attachments": {},
   "cell_type": "markdown",
   "metadata": {},
   "source": [
    "2. Let's look closer at columns and do some data cleaning."
   ]
  },
  {
   "cell_type": "code",
   "execution_count": 967,
   "metadata": {},
   "outputs": [],
   "source": [
    "# For brevity, these text columns had some nan's that will be filled with 'Not listed\"\n",
    "df_2015['BREED1_HYBRID'] = df_2015['BREED1_HYBRID'].fillna('not_listed')\n",
    "df_2015['BREED_TYPE'] = df_2015['BREED_TYPE'].fillna('not_listed')\n",
    "df_2015['BREED1'] = df_2015['BREED1'].fillna('not_listed')\n",
    "df_2015['BREED2'] = df_2015['BREED2'].fillna('not_listed')\n",
    "df_2015['COLOR_DOG'] = df_2015['COLOR_DOG'].fillna('not_listed')"
   ]
  },
  {
   "cell_type": "code",
   "execution_count": 968,
   "metadata": {},
   "outputs": [
    {
     "name": "stdout",
     "output_type": "stream",
     "text": [
      "['51-60' '61-70' '41-50' '71-80' '31-40' '81-90' '21-30' '91-100' nan\n",
      " '11-20']\n",
      "['m' 'w']\n"
     ]
    }
   ],
   "source": [
    "print(df_2015['AGE'].unique())\n",
    "print(df_2015['GENDER'].unique())\n",
    "\n",
    "# Owner age is of key interest so let's drop two nan rows.\n",
    "df_2015.dropna(subset=['AGE'], inplace=True)"
   ]
  },
  {
   "cell_type": "code",
   "execution_count": 969,
   "metadata": {},
   "outputs": [
    {
     "name": "stdout",
     "output_type": "stream",
     "text": [
      "[ 9.  2.  6.  7. 10.  3. 11.  8.  5.  4. nan 12.  1.]\n",
      "[ 92.  23.  63.  71. 102.  34. 111.  21.  81.  91.  74.  52.  42.  82.\n",
      "  51.  72. 119. 101.  61.  nan 122.  41.  33.  31.  24.  73. 121.  44.\n",
      " 123.  83. 115.  14.  11.  13.   4.  12.   6.]\n"
     ]
    }
   ],
   "source": [
    "print(df_2015['URBAN_CIRCLE'].unique())\n",
    "print(df_2015['CITY_QUARTER'].unique())\n",
    "\n",
    "# Urban circle and city quarter fill nan with not_listed, after cast to string.\n",
    "df_2015 = df_2015.astype({'URBAN_CIRCLE':'str','CITY_QUARTER':'str'})\n",
    "df_2015['URBAN_CIRCLE'] = df_2015['URBAN_CIRCLE'].fillna('not_listed')\n",
    "df_2015['CITY_QUARTER'] = df_2015['CITY_QUARTER'].fillna('not_listed')"
   ]
  },
  {
   "cell_type": "code",
   "execution_count": 970,
   "metadata": {},
   "outputs": [
    {
     "name": "stdout",
     "output_type": "stream",
     "text": [
      "[nan]\n"
     ]
    }
   ],
   "source": [
    "print(df_2015['BREED2_HYBRID'].unique())\n",
    "# Breed 2 Hybrid column is only nan, so let's drop it.\n",
    "df_2015.drop(['BREED2_HYBRID'], axis=1, inplace=True)"
   ]
  },
  {
   "cell_type": "code",
   "execution_count": 971,
   "metadata": {},
   "outputs": [
    {
     "name": "stdout",
     "output_type": "stream",
     "text": [
      "[2011 2002 2012 2010 2005 2004 2001 2013 2014 2007 2003 1999 2000 2009\n",
      " 1997 2008 2006 2015 1998 1995 1980    8    1 1994 1962 5012 2016 1996]\n",
      "[ 4 13  3  5 10 11 14  2  1  8 12 16 15  6 18  7  9  0 17 20 21 19]\n"
     ]
    }
   ],
   "source": [
    "print(df_2015['BIRTH_YEAR_DOG'].unique())\n",
    "\n",
    "# In birth year dog we have four cases to address 8, 1, 5012, and 2016.\n",
    "# The first two will be considered the dog's age, we will subtract that number from 2015 to obtain the birth year.\n",
    "# The last two are harder to determine and will be dropped.\n",
    "# Lastly 1962 and 1980 are impossible for dog birth years recorded in 2015 and will be dropped (Oldest verified dog ever was 29 years old).\n",
    "\n",
    "df_2015.loc[(df_2015['BIRTH_YEAR_DOG']==8),'BIRTH_YEAR_DOG']=2015-8\n",
    "df_2015.loc[(df_2015['BIRTH_YEAR_DOG']==1),'BIRTH_YEAR_DOG']=2015-1\n",
    "df_2015.drop(df_2015.loc[(df_2015['BIRTH_YEAR_DOG']==5012) | (df_2015['BIRTH_YEAR_DOG']==2016)\\\n",
    "    | (df_2015['BIRTH_YEAR_DOG']==1962) | (df_2015['BIRTH_YEAR_DOG']==1980)].index, inplace=True)\n",
    "\n",
    "# We will then create a column for the age of the dogs, a more useful continuous variable than birth year.\n",
    "df_2015['AGE_DOG'] = 2015-df_2015['BIRTH_YEAR_DOG']\n",
    "print(df_2015['AGE_DOG'].unique())"
   ]
  },
  {
   "attachments": {},
   "cell_type": "markdown",
   "metadata": {},
   "source": [
    "Interesting questions this data could answer...\n",
    "\n",
    "3. Based on the breed(s), birth year, and gender of the dog can we predict the age, gender, and location of the owner?\n",
    "\n",
    "4. Can we do this in reverse? Will information about the owner's age, gender, and location reliably tell us information about the dog?"
   ]
  },
  {
   "cell_type": "code",
   "execution_count": 972,
   "metadata": {},
   "outputs": [
    {
     "name": "stdout",
     "output_type": "stream",
     "text": [
      "Index(['HOLDER_ID', 'AGE', 'GENDER_m', 'GENDER_w', 'URBAN_CIRCLE',\n",
      "       'CITY_QUARTER', 'BREED1', 'BREED1_HYBRID_not_listed',\n",
      "       'BREED1_HYBRID_Mischling', 'BREED2', 'BREED_TYPE_K', 'BREED_TYPE_I',\n",
      "       'BREED_TYPE_II', 'BREED_TYPE_not_listed', 'BIRTH_YEAR_DOG',\n",
      "       'GENDER_DOG_w', 'GENDER_DOG_m', 'COLOR_DOG', 'AGE_DOG'],\n",
      "      dtype='object')\n",
      "13\n",
      "37\n",
      "301\n",
      "118\n",
      "169\n"
     ]
    },
    {
     "data": {
      "text/plain": [
       "(6974, 20)"
      ]
     },
     "execution_count": 972,
     "metadata": {},
     "output_type": "execute_result"
    }
   ],
   "source": [
    "import category_encoders as ce\n",
    "## ENCODE ALL CATEGORICAL VARIABLES\n",
    "\n",
    "# One hot encode features with low cardinality\n",
    "oh_encode = ce.one_hot.OneHotEncoder(cols=['GENDER', 'BREED_TYPE', 'BREED1_HYBRID', 'GENDER_DOG'], use_cat_names=True)\n",
    "df_enc = oh_encode.fit_transform(df_2015)\n",
    "print(df_enc.columns)\n",
    "\n",
    "# Ordinally encode owner age for a new target variable, owner decades old.\n",
    "# https://contrib.scikit-learn.org/category_encoders/ordinal.html\n",
    "df_enc['DECADES_OLD'] = df_enc['AGE']\n",
    "ordinal_encode = ce.ordinal.OrdinalEncoder(mapping= [{'col': 'DECADES_OLD',\\\n",
    "    'mapping': {'11-20': 1, '21-30': 2, '31-40': 3, '41-50': 4, '51-60': 5,\\\n",
    "    '61-70': 6, '71-80': 7, '81-90': 8, '91-100': 9}}],\\\n",
    "    cols='DECADES_OLD')\n",
    "df_enc = ordinal_encode.fit_transform(df_enc)\n",
    "\n",
    "\n",
    "# We will need to address high cardinality of our features with some encoding.\n",
    "print(len(df_enc['URBAN_CIRCLE'].unique()))\n",
    "print(len(df_enc['CITY_QUARTER'].unique()))\n",
    "print(len(df_enc['BREED1'].unique()))\n",
    "print(len(df_enc['BREED2'].unique()))\n",
    "print(len(df_enc['COLOR_DOG'].unique()))\n",
    "df_enc.shape"
   ]
  },
  {
   "cell_type": "code",
   "execution_count": 973,
   "metadata": {},
   "outputs": [
    {
     "name": "stdout",
     "output_type": "stream",
     "text": [
      "12\n",
      "32\n",
      "128\n",
      "31\n",
      "63\n"
     ]
    },
    {
     "data": {
      "text/plain": [
       "(5934, 20)"
      ]
     },
     "execution_count": 973,
     "metadata": {},
     "output_type": "execute_result"
    }
   ],
   "source": [
    "# Adapted from: https://stackoverflow.com/questions/49735683/python-removing-rows-on-count-condition\n",
    "# Removing categorical values that occur very rarely.\n",
    "df_new = df_enc.groupby('URBAN_CIRCLE').filter(lambda x : len(x)>1) # cities that appear more than 1 time(s)\n",
    "df_new = df_new.groupby('CITY_QUARTER').filter(lambda x : len(x)>16) # districts that appear more than 16 time(s)\n",
    "df_new = df_new.groupby('BREED1').filter(lambda x : len(x)>7) # primary breeds that appear more than 7 time(s)\n",
    "df_new = df_new.groupby('BREED2').filter(lambda x : len(x)>4) # secondary breeds that appear more than 4 time(s)\n",
    "df_new = df_new.groupby('COLOR_DOG').filter(lambda x : len(x)>12) # colors that appear more than 12 time(s)\n",
    "\n",
    "print(len(df_new['URBAN_CIRCLE'].unique()))\n",
    "print(len(df_new['CITY_QUARTER'].unique()))\n",
    "print(len(df_new['BREED1'].unique()))\n",
    "print(len(df_new['BREED2'].unique()))\n",
    "print(len(df_new['COLOR_DOG'].unique()))\n",
    "df_new.shape"
   ]
  },
  {
   "cell_type": "code",
   "execution_count": 974,
   "metadata": {},
   "outputs": [
    {
     "data": {
      "text/plain": [
       "Index(['color_hash_0', 'color_hash_1', 'color_hash_2', 'color_hash_3',\n",
       "       'color_hash_4', 'color_hash_5', 'breed2_hash_0', 'breed2_hash_1',\n",
       "       'breed2_hash_2', 'breed2_hash_3', 'breed2_hash_4', 'breed1_hash_0',\n",
       "       'breed1_hash_1', 'breed1_hash_2', 'breed1_hash_3', 'breed1_hash_4',\n",
       "       'breed1_hash_5', 'breed1_hash_6', 'borough_hash_0', 'borough_hash_1',\n",
       "       'borough_hash_2', 'borough_hash_3', 'borough_hash_4', 'city_hash_0',\n",
       "       'city_hash_1', 'city_hash_2', 'city_hash_3', 'HOLDER_ID', 'AGE',\n",
       "       'GENDER_m', 'GENDER_w', 'BREED1_HYBRID_not_listed',\n",
       "       'BREED1_HYBRID_Mischling', 'BREED_TYPE_K', 'BREED_TYPE_I',\n",
       "       'BREED_TYPE_II', 'BREED_TYPE_not_listed', 'BIRTH_YEAR_DOG',\n",
       "       'GENDER_DOG_w', 'GENDER_DOG_m', 'AGE_DOG', 'DECADES_OLD'],\n",
       "      dtype='object')"
      ]
     },
     "execution_count": 974,
     "metadata": {},
     "output_type": "execute_result"
    }
   ],
   "source": [
    "# Encoder documentation: https://contrib.scikit-learn.org/category_encoders/hashing.html\n",
    "# This section creates a hash encoder for each high cardinality feature, and generates 4-7 hash encoded columns for each.\n",
    "# The number of hash encoded columns dependds on binary digits to reach number of unique values shown printed above.\n",
    "hash_encode_urb= ce.hashing.HashingEncoder(n_components=4, cols=['URBAN_CIRCLE'])\n",
    "df_new = hash_encode_urb.fit_transform(df_new)\n",
    "df_new.rename(columns={'col_0':'city_hash_0', 'col_1':'city_hash_1', \n",
    "    'col_2':'city_hash_2', 'col_3':'city_hash_3'}, inplace=True)\n",
    "\n",
    "hash_encode_qrt= ce.hashing.HashingEncoder(n_components=5, cols=['CITY_QUARTER'])\n",
    "df_new = hash_encode_qrt.fit_transform(df_new)\n",
    "df_new.rename(columns={'col_0':'borough_hash_0', 'col_1':'borough_hash_1', \n",
    "    'col_2':'borough_hash_2', 'col_3':'borough_hash_3', 'col_4':'borough_hash_4'}, inplace=True)\n",
    "\n",
    "hash_encode_br1= ce.hashing.HashingEncoder(n_components=7, cols=['BREED1'])\n",
    "df_new = hash_encode_br1.fit_transform(df_new)\n",
    "df_new.rename(columns={'col_0':'breed1_hash_0', 'col_1':'breed1_hash_1', 'col_2':'breed1_hash_2',\n",
    "    'col_3':'breed1_hash_3', 'col_4':'breed1_hash_4', 'col_5':'breed1_hash_5', 'col_6':'breed1_hash_6'}, inplace=True)\n",
    "\n",
    "hash_encode_br2= ce.hashing.HashingEncoder(n_components=5, cols=['BREED2'])\n",
    "df_new = hash_encode_br2.fit_transform(df_new)\n",
    "df_new.rename(columns={'col_0':'breed2_hash_0', 'col_1':'breed2_hash_1', \n",
    "    'col_2':'breed2_hash_2', 'col_3':'breed2_hash_3', 'col_4':'breed2_hash_4'}, inplace=True)\n",
    "\n",
    "hash_encode_col= ce.hashing.HashingEncoder(n_components=6, cols=['COLOR_DOG'])\n",
    "df_new = hash_encode_col.fit_transform(df_new)\n",
    "df_new.rename(columns={'col_0':'color_hash_0', 'col_1':'color_hash_1', 'col_2':'color_hash_2',\n",
    "    'col_3':'color_hash_3', 'col_4':'color_hash_4', 'col_5':'color_hash_5'}, inplace=True)\n",
    "df_new.columns"
   ]
  },
  {
   "cell_type": "code",
   "execution_count": 975,
   "metadata": {},
   "outputs": [
    {
     "name": "stdout",
     "output_type": "stream",
     "text": [
      "[0 1]\n",
      "[0 1]\n",
      "[1 0]\n",
      "[0 1]\n",
      "[0 1]\n",
      "[0 1]\n",
      "[1 0]\n",
      "[0 1]\n",
      "[0 1]\n",
      "[0 1]\n",
      "[0 1]\n",
      "[1 0]\n",
      "[0 1]\n",
      "[0 1]\n",
      "[0 1]\n",
      "[0 1]\n",
      "[0 1]\n",
      "[0 1]\n",
      "[0 1]\n",
      "[0 1]\n",
      "[0 1]\n",
      "[0 1]\n",
      "[1 0]\n",
      "[0 1]\n",
      "[0 1]\n",
      "[1 0]\n",
      "[0 1]\n"
     ]
    }
   ],
   "source": [
    "# Verify binary for all hash encoding columns.\n",
    "# Adapted from: https://stackoverflow.com/questions/72014533/is-the-hashingencoder-from-category-encoders-meant-to-be-used-over-multiple-vari\n",
    "for c in ['color_hash_0', 'color_hash_1', 'color_hash_2', 'color_hash_3',\n",
    "       'color_hash_4', 'color_hash_5', 'breed2_hash_0', 'breed2_hash_1',\n",
    "       'breed2_hash_2', 'breed2_hash_3', 'breed2_hash_4', 'breed1_hash_0',\n",
    "       'breed1_hash_1', 'breed1_hash_2', 'breed1_hash_3', 'breed1_hash_4',\n",
    "       'breed1_hash_5', 'breed1_hash_6', 'borough_hash_0', 'borough_hash_1',\n",
    "       'borough_hash_2', 'borough_hash_3', 'borough_hash_4', 'city_hash_0',\n",
    "       'city_hash_1', 'city_hash_2', 'city_hash_3']:\n",
    "    print(df_new[c].unique())"
   ]
  },
  {
   "cell_type": "code",
   "execution_count": 1041,
   "metadata": {},
   "outputs": [],
   "source": [
    "from sklearn.model_selection import train_test_split\n",
    "\n",
    "# This model will predict owner age from dog age, color, gender, breed(s), breed type, hybrid or not, city, and borough\n",
    "\n",
    "X = df_new[['color_hash_0', 'color_hash_1', 'color_hash_2', 'color_hash_3',\n",
    "       'color_hash_4', 'color_hash_5', 'breed2_hash_0', 'breed2_hash_1',\n",
    "       'breed2_hash_2', 'breed2_hash_3', 'breed2_hash_4', 'breed1_hash_0',\n",
    "       'breed1_hash_1', 'breed1_hash_2', 'breed1_hash_3', 'breed1_hash_4',\n",
    "       'breed1_hash_5', 'breed1_hash_6', 'borough_hash_0', 'borough_hash_1',\n",
    "       'borough_hash_2', 'borough_hash_3', 'borough_hash_4', 'city_hash_0',\n",
    "       'city_hash_1', 'city_hash_2', 'city_hash_3', 'BREED1_HYBRID_not_listed',\n",
    "       'BREED1_HYBRID_Mischling', 'BREED_TYPE_K', 'BREED_TYPE_I', 'BREED_TYPE_II',\n",
    "       'BREED_TYPE_not_listed', 'GENDER_DOG_w', 'GENDER_DOG_m', 'AGE_DOG']]\n",
    "\n",
    "'''\n",
    "X = df_new[['BREED1_HYBRID_not_listed', 'BREED1_HYBRID_Mischling', 'BREED_TYPE_K',\n",
    "       'BREED_TYPE_I', 'BREED_TYPE_II', 'BREED_TYPE_not_listed', 'GENDER_DOG_w',\n",
    "       'GENDER_DOG_m', 'AGE_DOG']]\n",
    "'''\n",
    "y = df_new['GENDER_w']\n",
    "\n",
    "X_train, X_test, y_train, y_test = train_test_split(X, y, train_size=0.7, shuffle=True)"
   ]
  },
  {
   "cell_type": "code",
   "execution_count": 953,
   "metadata": {},
   "outputs": [],
   "source": [
    "df_unused_cols = df_new[['HOLDER_ID', 'AGE', 'GENDER_m', 'GENDER_w', 'BIRTH_YEAR_DOG', 'DECADES_OLD']]"
   ]
  },
  {
   "cell_type": "code",
   "execution_count": 1040,
   "metadata": {},
   "outputs": [
    {
     "name": "stdout",
     "output_type": "stream",
     "text": [
      "Index(['HOLDER_ID', 'AGE', 'GENDER_m', 'GENDER_w', 'URBAN_CIRCLE',\n",
      "       'CITY_QUARTER', 'BREED1', 'BREED1_HYBRID_not_listed',\n",
      "       'BREED1_HYBRID_Mischling', 'BREED2', 'BREED_TYPE_K', 'BREED_TYPE_I',\n",
      "       'BREED_TYPE_II', 'BREED_TYPE_not_listed', 'BIRTH_YEAR_DOG',\n",
      "       'GENDER_DOG_w', 'GENDER_DOG_m', 'COLOR_DOG', 'AGE_DOG'],\n",
      "      dtype='object')\n"
     ]
    }
   ],
   "source": [
    "#TRY OH ENCODE ALL?\n",
    "#TOP 10 BREEDS?\n",
    "#DROP SMALL GROUPS, OLD PEOPLE, RARE BREEDS\n",
    "\n",
    "oh_encode = ce.one_hot.OneHotEncoder(cols=['GENDER', 'BREED_TYPE', 'BREED1_HYBRID', 'GENDER_DOG'], use_cat_names=True)\n",
    "df_enc = oh_encode.fit_transform(df_2015)\n",
    "print(df_enc.columns)"
   ]
  },
  {
   "cell_type": "code",
   "execution_count": 1042,
   "metadata": {},
   "outputs": [
    {
     "name": "stdout",
     "output_type": "stream",
     "text": [
      "RandomForestClassifier(max_depth=5, n_estimators=10)\n"
     ]
    },
    {
     "data": {
      "image/png": "[encoded data removed]",
      "text/plain": [
       "<Figure size 432x288 with 2 Axes>"
      ]
     },
     "metadata": {
      "needs_background": "light"
     },
     "output_type": "display_data"
    }
   ],
   "source": [
    "# Grid Search from: https://stackoverflow.com/questions/38151615/specific-cross-validation-with-random-forest\n",
    "from sklearn.model_selection import cross_val_score\n",
    "from sklearn.model_selection import GridSearchCV\n",
    "from sklearn.ensemble import RandomForestClassifier\n",
    "from sklearn.metrics import confusion_matrix\n",
    "from sklearn_evaluation import plot\n",
    "\n",
    "# creating a RF classifier\n",
    "clf = RandomForestClassifier()  \n",
    "\n",
    "param_grid = {'n_estimators': [5,10,15,20], 'max_depth': [2, 5, 7, 9]}\n",
    "\n",
    "grid_clf = GridSearchCV(clf, param_grid, cv=5)\n",
    "grid_clf.fit(X_train, y_train)\n",
    "\n",
    "plot.grid_search(grid_clf.cv_results_, change=('n_estimators', 'max_depth'))\n",
    "print(grid_clf.best_estimator_)"
   ]
  },
  {
   "cell_type": "code",
   "execution_count": 1043,
   "metadata": {},
   "outputs": [
    {
     "name": "stdout",
     "output_type": "stream",
     "text": [
      "\n",
      "ACCURACY OF THE MODEL:  0.6878158338012352\n"
     ]
    },
    {
     "data": {
      "text/plain": [
       "<AxesSubplot:title={'center':'Confusion matrix'}, xlabel='Predicted label', ylabel='True label'>"
      ]
     },
     "execution_count": 1043,
     "metadata": {},
     "output_type": "execute_result"
    },
    {
     "data": {
      "image/png": "[encoded data removed]",
      "text/plain": [
       "<Figure size 432x288 with 2 Axes>"
      ]
     },
     "metadata": {
      "needs_background": "light"
     },
     "output_type": "display_data"
    }
   ],
   "source": [
    "# Training the model on the training dataset\n",
    "# fit function is used to train the model using the training sets as parameters\n",
    "clf = RandomForestClassifier(max_depth=2, n_estimators=5)\n",
    "clf.fit(X_train, y_train)\n",
    "  \n",
    "# performing predictions on the test dataset\n",
    "y_pred = clf.predict(X_test)\n",
    "  \n",
    "# metrics are used to find accuracy or error\n",
    "from sklearn import metrics  \n",
    "print()\n",
    "  \n",
    "# using metrics module for accuracy calculation\n",
    "print(\"ACCURACY OF THE MODEL: \", metrics.accuracy_score(y_test, y_pred))\n",
    "\n",
    "from sklearn_evaluation import plot\n",
    "plot.confusion_matrix(y_test, y_pred)"
   ]
  }
 ],
 "metadata": {
  "kernelspec": {
   "display_name": "Python 3",
   "language": "python",
   "name": "python3"
  },
  "language_info": {
   "codemirror_mode": {
    "name": "ipython",
    "version": 3
   },
   "file_extension": ".py",
   "mimetype": "text/x-python",
   "name": "python",
   "nbconvert_exporter": "python",
   "pygments_lexer": "ipython3",
   "version": "3.10.2"
  },
  "orig_nbformat": 4,
  "vscode": {
   "interpreter": {
    "hash": "9f0d103aebe82dfbb47ec724a2ca4fd3dcb0c9038207abb072b7913218171667"
   }
  }
 },
 "nbformat": 4,
 "nbformat_minor": 2
}
